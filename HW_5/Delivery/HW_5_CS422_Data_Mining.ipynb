{
  "cells": [
    {
      "cell_type": "code",
      "execution_count": 37,
      "metadata": {
        "colab": {
          "base_uri": "https://localhost:8080/",
          "height": 1000
        },
        "id": "gub-qhOdRKbS",
        "outputId": "55b59033-a014-47d3-b664-8d5449294a3a"
      },
      "outputs": [],
      "source": [
        "#%pip install pandas\n",
        "#%pip install numpy\n",
        "\n",
        "\n",
        "import array\n",
        "import csv\n",
        "import numpy as np\n",
        "import pandas as pd\n",
        "\n",
        "items_names = []\n",
        "items_ID = []\n",
        "\n",
        "class df_c():\n",
        "  one = []\n",
        "  five = []\n",
        "  twenty = []\n",
        "  seventy = []\n",
        "\n",
        "\n",
        "  pass\n",
        "\n",
        "def update_data(df, array_names:array):\n",
        "  copy = []\n",
        "  i = 0\n",
        "  for i in range(len(df)):\n",
        "    row = df.loc[i][0]\n",
        "    j = 0\n",
        "    new_array = []\n",
        "    separator = \", \"\n",
        "    line = row.split(separator)\n",
        "    for j in range(1, len(line)):      \n",
        "      ID = line[j]\n",
        "      \n",
        "      if ((ID != \",\") & (ID != \" \")):\n",
        "        new_array.append(array_names[int(ID)])\n",
        "    copy.append(new_array)\n",
        "  return copy\n",
        "\n",
        "def write_file(array:array, route:str):\n",
        "  f = open (r'C:\\Users\\ferro\\Desktop\\tr-{}-canonical.csv'.format(route), 'w', newline=\"\")\n",
        "  f.truncate(0)\n",
        "  with f as csvfile:\n",
        "    filewriter = csv.writer(csvfile, delimiter=',', quotechar='|', quoting=csv.QUOTE_MINIMAL)\n",
        "    for i in range (len(array)):\n",
        "      filewriter.writerow(array[i])\n",
        "  f.close()\n",
        "  \n",
        "#setting the different URLs of the different datasets uploaded in GITHUB\n",
        "url_prod = 'https://raw.githubusercontent.com/ferriitoo/CS422-Data-Mining/main/HW5/products.csv'\n",
        "url_1k = 'https://raw.githubusercontent.com/ferriitoo/CS422-Data-Mining/main/HW5/tr-1k.csv'\n",
        "url_5k = 'https://raw.githubusercontent.com/ferriitoo/CS422-Data-Mining/main/HW5/tr-5k.csv'\n",
        "url_20k = 'https://raw.githubusercontent.com/ferriitoo/CS422-Data-Mining/main/HW5/tr-20k.csv'\n",
        "url_75k = 'https://raw.githubusercontent.com/ferriitoo/CS422-Data-Mining/main/HW5/tr-75k.csv'\n",
        "\n",
        "#importing the different datasets\n",
        "\n",
        "df_prod = pd.read_csv(url_prod, on_bad_lines = 'skip', header = None)\n",
        "df_1k = pd.read_csv(url_1k, delimiter='|', names=list(range(20))).dropna(axis='columns', how='all')\n",
        "df_5k = pd.read_csv(url_5k, delimiter='|', names=list(range(20))).dropna(axis='columns', how='all')\n",
        "df_20k = pd.read_csv(url_20k, delimiter='|', names=list(range(20))).dropna(axis='columns', how='all')\n",
        "df_75k = pd.read_csv(url_75k, delimiter='|', names=list(range(20))).dropna(axis='columns', how='all')\n",
        "\n",
        "#creating an array containing the names of each item\n",
        "for i in range(len(df_prod)):\n",
        "  items_names.append(df_prod[1][i])\n",
        "\n",
        "#getting the canonical datasets\n",
        "df_c.one = update_data(df_1k, items_names)\n",
        "df_c.five = update_data(df_5k, items_names)\n",
        "df_c.twenty = update_data(df_20k, items_names)\n",
        "df_c.seventy = update_data(df_75k, items_names)\n",
        "\n",
        "#creating and writing down the canonical datasets into CSV files\n",
        "write_file(df_c.one, '1k')\n",
        "write_file(df_c.five, '5k')\n",
        "write_file(df_c.twenty, '20k')\n",
        "write_file(df_c.seventy, '75k')\n"
      ]
    },
    {
      "cell_type": "code",
      "execution_count": null,
      "metadata": {
        "id": "Ay5BuiFhfQWf"
      },
      "outputs": [],
      "source": []
    },
    {
      "cell_type": "code",
      "execution_count": 85,
      "metadata": {
        "colab": {
          "base_uri": "https://localhost:8080/"
        },
        "id": "IK91OuoTcb7H",
        "outputId": "63634a9d-b63a-4736-d491-35e5ad9510e1"
      },
      "outputs": [
        {
          "name": "stdout",
          "output_type": "stream",
          "text": [
            "1\n",
            ",\n",
            " \n",
            "7\n",
            ",\n",
            " \n",
            "1\n"
          ]
        }
      ],
      "source": [
        "for i in range(7):\n",
        "  print(df_1k.loc[0][0][i])\n",
        "\n",
        "\n",
        "#update_row(df_1k, items_names)\n",
        "\n",
        "#df_1k.to_csv('clean_data.csv')\n"
      ]
    },
    {
      "cell_type": "code",
      "execution_count": 138,
      "metadata": {
        "colab": {
          "base_uri": "https://localhost:8080/"
        },
        "id": "Trud-__0cj_R",
        "outputId": "ad02dd83-cc28-4ef1-d453-e355dbee50b7"
      },
      "outputs": [
        {
          "name": "stdout",
          "output_type": "stream",
          "text": [
            "0    1, 7, 15, 44, 49\n",
            "Name: 0, dtype: object\n"
          ]
        }
      ],
      "source": [
        "print(df_1k.loc[0])"
      ]
    }
  ],
  "metadata": {
    "colab": {
      "collapsed_sections": [],
      "provenance": []
    },
    "kernelspec": {
      "display_name": "Python 3.7.4 64-bit",
      "language": "python",
      "name": "python3"
    },
    "language_info": {
      "codemirror_mode": {
        "name": "ipython",
        "version": 3
      },
      "file_extension": ".py",
      "mimetype": "text/x-python",
      "name": "python",
      "nbconvert_exporter": "python",
      "pygments_lexer": "ipython3",
      "version": "3.7.8"
    },
    "vscode": {
      "interpreter": {
        "hash": "fec7c492cb63a891b61f6a129c254b2f9b08ab3c88ef1c1ffe13c4cf2a66800d"
      }
    }
  },
  "nbformat": 4,
  "nbformat_minor": 0
}
