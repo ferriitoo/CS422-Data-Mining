{
  "nbformat": 4,
  "nbformat_minor": 0,
  "metadata": {
    "colab": {
      "provenance": [],
      "collapsed_sections": [],
      "authorship_tag": "ABX9TyNIyTK86FD5grF7gp1P9367",
      "include_colab_link": true
    },
    "kernelspec": {
      "name": "python3",
      "display_name": "Python 3"
    },
    "language_info": {
      "name": "python"
    }
  },
  "cells": [
    {
      "cell_type": "markdown",
      "metadata": {
        "id": "view-in-github",
        "colab_type": "text"
      },
      "source": [
        "<a href=\"https://colab.research.google.com/github/ferriitoo/CS422-Data-Mining/blob/main/HW_5_CS422_Data_Mining.ipynb\" target=\"_parent\"><img src=\"https://colab.research.google.com/assets/colab-badge.svg\" alt=\"Open In Colab\"/></a>"
      ]
    },
    {
      "cell_type": "code",
      "execution_count": 49,
      "metadata": {
        "colab": {
          "base_uri": "https://localhost:8080/"
        },
        "id": "gub-qhOdRKbS",
        "outputId": "996c8910-6bca-4168-d6ac-7308932d05e8"
      },
      "outputs": [
        {
          "output_type": "stream",
          "name": "stdout",
          "text": [
            "['Chocolate Cake', 'Lemon Cake', 'Casino Cake', 'Opera Cake', 'Strawberry Cake', 'Truffle Cake', 'Chocolate Eclair', 'Coffee Eclair', 'Vanilla Eclair', 'Napoleon Cake', 'Almond Tart', 'Apple Pie', 'Apple Tart', 'Apricot Tart', 'Berry Tart', 'Blackberry Tart', 'Blueberry Tart', 'Chocolate Tart', 'Cherry Tart', 'Lemon Tart', 'Pecan Tart', 'Ganache Cookie', 'Gongolais Cookie', 'Raspberry Cookie', 'Lemon Cookie', 'Chocolate Meringue', 'Vanilla Meringue', 'Marzipan Cookie', 'Tuile Cookie', 'Walnut Cookie', 'Almond Croissant', 'Apple Croissant', 'Apricot Croissant', 'Cheese Croissant', 'Chocolate Croissant', 'Apricot Danish', 'Apple Danish', 'Almond Twist', 'Almond Bear Claw', 'Blueberry Danish', 'Lemon Lemonade', 'Raspberry Lemonade', 'Orange Juice', 'Green Tea', 'Bottled Water', 'Hot Coffee', 'Chocolate Coffee', 'Vanilla Frappuccino', 'Cherry Soda', 'Single Espresso']\n",
            "[ 1  2  3  4  5  6  7  8  9 10 11 12 13 14 15 16 17 18 19 20 21 22 23 24\n",
            " 25 26 27 28 29 30 31 32 33 34 35 36 37 38 39 40 41 42 43 44 45 46 47 48\n",
            " 49 50]\n"
          ]
        }
      ],
      "source": [
        "import array\n",
        "#!pip install pandas\n",
        "\n",
        "import numpy as np\n",
        "import pandas as pd\n",
        "\n",
        "items_names = []\n",
        "items_ID = []\n",
        "\n",
        "def update_row(df, array_names:array):\n",
        "  new_array = []\n",
        "  for i in range(len(df)):\n",
        "    row = df.iloc[i]\n",
        "    for j in range(len(row[1])):\n",
        "      ID = row[1][j]\n",
        "      new_array.append(array_names[ID-1])\n",
        "  return new_array\n",
        "\n",
        "\n",
        "#setting the different URLs of the different datasets uploaded in GITHUB\n",
        "url_prod = 'https://raw.githubusercontent.com/ferriitoo/CS422-Data-Mining/main/HW5/products.csv'\n",
        "url_1k = 'https://raw.githubusercontent.com/ferriitoo/CS422-Data-Mining/main/HW5/tr-1k.csv'\n",
        "url_5k = 'https://raw.githubusercontent.com/ferriitoo/CS422-Data-Mining/main/HW5/tr-5k.csv'\n",
        "url_20k = 'https://raw.githubusercontent.com/ferriitoo/CS422-Data-Mining/main/HW5/tr-20k.csv'\n",
        "url_75k = 'https://raw.githubusercontent.com/ferriitoo/CS422-Data-Mining/main/HW5/tr-75k.csv'\n",
        "\n",
        "#importing the different datasets\n",
        "df_prod = pd.read_csv(url_prod, on_bad_lines = 'skip', header = None)\n",
        "df_1k = pd.read_csv(url_1k, on_bad_lines = 'skip')\n",
        "df_5k = pd.read_csv(url_5k, on_bad_lines = 'skip')\n",
        "df_20k = pd.read_csv(url_20k, on_bad_lines = 'skip')\n",
        "df_75k = pd.read_csv(url_75k, on_bad_lines = 'skip')\n",
        "\n",
        "#creating an array containing the ID numbers of each product\n",
        "items_ID = np.arange(len(df_prod)) + 1\n",
        "\n",
        "#creating an array containing the names of each item\n",
        "for i in range(len(df_prod)):\n",
        "  items_names.append(df_prod[1][i])\n",
        "\n",
        "print(items_names)\n",
        "print(items_ID)\n"
      ]
    },
    {
      "cell_type": "code",
      "source": [
        "df_1k.iloc[1]\n",
        "\n",
        "#update_row(df_1k, items_names)\n",
        "\n",
        "#df_1k.to_csv('clean_data.csv')\n"
      ],
      "metadata": {
        "colab": {
          "base_uri": "https://localhost:8080/"
        },
        "id": "IK91OuoTcb7H",
        "outputId": "bc088c74-649f-46e4-e423-10282b41a804"
      },
      "execution_count": 82,
      "outputs": [
        {
          "output_type": "execute_result",
          "data": {
            "text/plain": [
              "1       3.0\n",
              " 7      1.0\n",
              " 15    19.0\n",
              " 44     NaN\n",
              " 49     NaN\n",
              "Name: 1, dtype: float64"
            ]
          },
          "metadata": {},
          "execution_count": 82
        }
      ]
    },
    {
      "cell_type": "code",
      "source": [
        "df_prod[1]"
      ],
      "metadata": {
        "colab": {
          "base_uri": "https://localhost:8080/",
          "height": 35
        },
        "id": "Trud-__0cj_R",
        "outputId": "22f7ff2d-e548-4211-f7d1-b06dc9bb0f3b"
      },
      "execution_count": 33,
      "outputs": [
        {
          "output_type": "execute_result",
          "data": {
            "text/plain": [
              "'Chocolate Cake'"
            ],
            "application/vnd.google.colaboratory.intrinsic+json": {
              "type": "string"
            }
          },
          "metadata": {},
          "execution_count": 33
        }
      ]
    }
  ]
}